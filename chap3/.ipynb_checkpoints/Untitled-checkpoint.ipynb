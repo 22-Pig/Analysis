{
 "cells": [
  {
   "cell_type": "code",
   "execution_count": 1,
   "id": "b771a611",
   "metadata": {},
   "outputs": [],
   "source": [
    "import numpy as np\n",
    "\n",
    "import pandas as pd\n",
    "\n",
    "df_data = np.array([[1, 5, 8, 8], [2, 2, 4, 9], [7, 4, 2, 3], [3, 0, 5, 2]])\n",
    "col_data = np.array(['A', 'B', 'C', 'D'])\n",
    "\n",
    "# 基于数组创建DataFrame对象\n",
    "df_obj = pd.DataFrame(columns=col_data, data=df_data)\n",
    "\n",
    "sort_values_data = df_obj.sort_values(by=['B'], ascending=False)\n",
    "\n",
    "sort_values_data.to_csv(r'D:\\Documents\\Codebase\\Analysis\\chap3\\write_data.csv')"
   ]
  },
  {
   "cell_type": "code",
   "execution_count": null,
   "id": "897a8278",
   "metadata": {},
   "outputs": [],
   "source": []
  }
 ],
 "metadata": {
  "kernelspec": {
   "display_name": "Python 3 (ipykernel)",
   "language": "python",
   "name": "python3"
  },
  "language_info": {
   "codemirror_mode": {
    "name": "ipython",
    "version": 3
   },
   "file_extension": ".py",
   "mimetype": "text/x-python",
   "name": "python",
   "nbconvert_exporter": "python",
   "pygments_lexer": "ipython3",
   "version": "3.9.12"
  },
  "vscode": {
   "interpreter": {
    "hash": "d99a3f7b344b3c3107482760db15f42178bfad658d282ab0a919b76809e13cb5"
   }
  }
 },
 "nbformat": 4,
 "nbformat_minor": 5
}
