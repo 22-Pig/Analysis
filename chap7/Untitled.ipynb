{
 "cells": [
  {
   "cell_type": "code",
   "execution_count": 1,
   "id": "e9f49294",
   "metadata": {},
   "outputs": [
    {
     "ename": "ValueError",
     "evalue": "Of the four parameters: start, end, periods, and freq, exactly three must be specified",
     "output_type": "error",
     "traceback": [
      "\u001b[1;31m---------------------------------------------------------------------------\u001b[0m",
      "\u001b[1;31mValueError\u001b[0m                                Traceback (most recent call last)",
      "Cell \u001b[1;32mIn [1], line 3\u001b[0m\n\u001b[0;32m      1\u001b[0m \u001b[38;5;28;01mimport\u001b[39;00m \u001b[38;5;21;01mpandas\u001b[39;00m \u001b[38;5;28;01mas\u001b[39;00m \u001b[38;5;21;01mpd\u001b[39;00m\n\u001b[1;32m----> 3\u001b[0m date_index \u001b[38;5;241m=\u001b[39m \u001b[43mpd\u001b[49m\u001b[38;5;241;43m.\u001b[39;49m\u001b[43mdate_range\u001b[49m\u001b[43m(\u001b[49m\u001b[38;5;124;43m'\u001b[39;49m\u001b[38;5;124;43m2018/08/10\u001b[39;49m\u001b[38;5;124;43m'\u001b[39;49m\u001b[43m)\u001b[49m\n\u001b[0;32m      4\u001b[0m ser_obj \u001b[38;5;241m=\u001b[39m pd\u001b[38;5;241m.\u001b[39mSeries(\u001b[38;5;241m11\u001b[39m, date_index)\n\u001b[0;32m      5\u001b[0m \u001b[38;5;28mprint\u001b[39m(ser_obj)\n",
      "File \u001b[1;32md:\\Program Files\\Python310\\lib\\site-packages\\pandas\\core\\indexes\\datetimes.py:1128\u001b[0m, in \u001b[0;36mdate_range\u001b[1;34m(start, end, periods, freq, tz, normalize, name, closed, inclusive, **kwargs)\u001b[0m\n\u001b[0;32m   1125\u001b[0m \u001b[39mif\u001b[39;00m freq \u001b[39mis\u001b[39;00m \u001b[39mNone\u001b[39;00m \u001b[39mand\u001b[39;00m com\u001b[39m.\u001b[39many_none(periods, start, end):\n\u001b[0;32m   1126\u001b[0m     freq \u001b[39m=\u001b[39m \u001b[39m\"\u001b[39m\u001b[39mD\u001b[39m\u001b[39m\"\u001b[39m\n\u001b[1;32m-> 1128\u001b[0m dtarr \u001b[39m=\u001b[39m DatetimeArray\u001b[39m.\u001b[39m_generate_range(\n\u001b[0;32m   1129\u001b[0m     start\u001b[39m=\u001b[39mstart,\n\u001b[0;32m   1130\u001b[0m     end\u001b[39m=\u001b[39mend,\n\u001b[0;32m   1131\u001b[0m     periods\u001b[39m=\u001b[39mperiods,\n\u001b[0;32m   1132\u001b[0m     freq\u001b[39m=\u001b[39mfreq,\n\u001b[0;32m   1133\u001b[0m     tz\u001b[39m=\u001b[39mtz,\n\u001b[0;32m   1134\u001b[0m     normalize\u001b[39m=\u001b[39mnormalize,\n\u001b[0;32m   1135\u001b[0m     inclusive\u001b[39m=\u001b[39minclusive,\n\u001b[0;32m   1136\u001b[0m     \u001b[39m*\u001b[39m\u001b[39m*\u001b[39mkwargs,\n\u001b[0;32m   1137\u001b[0m )\n\u001b[0;32m   1138\u001b[0m \u001b[39mreturn\u001b[39;00m DatetimeIndex\u001b[39m.\u001b[39m_simple_new(dtarr, name\u001b[39m=\u001b[39mname)\n",
      "File \u001b[1;32md:\\Program Files\\Python310\\lib\\site-packages\\pandas\\core\\arrays\\datetimes.py:355\u001b[0m, in \u001b[0;36mDatetimeArray._generate_range\u001b[1;34m(cls, start, end, periods, freq, tz, normalize, ambiguous, nonexistent, inclusive)\u001b[0m\n\u001b[0;32m    352\u001b[0m     \u001b[39mraise\u001b[39;00m \u001b[39mValueError\u001b[39;00m(\u001b[39m\"\u001b[39m\u001b[39mMust provide freq argument if no data is supplied\u001b[39m\u001b[39m\"\u001b[39m)\n\u001b[0;32m    354\u001b[0m \u001b[39mif\u001b[39;00m com\u001b[39m.\u001b[39mcount_not_none(start, end, periods, freq) \u001b[39m!=\u001b[39m \u001b[39m3\u001b[39m:\n\u001b[1;32m--> 355\u001b[0m     \u001b[39mraise\u001b[39;00m \u001b[39mValueError\u001b[39;00m(\n\u001b[0;32m    356\u001b[0m         \u001b[39m\"\u001b[39m\u001b[39mOf the four parameters: start, end, periods, \u001b[39m\u001b[39m\"\u001b[39m\n\u001b[0;32m    357\u001b[0m         \u001b[39m\"\u001b[39m\u001b[39mand freq, exactly three must be specified\u001b[39m\u001b[39m\"\u001b[39m\n\u001b[0;32m    358\u001b[0m     )\n\u001b[0;32m    359\u001b[0m freq \u001b[39m=\u001b[39m to_offset(freq)\n\u001b[0;32m    361\u001b[0m \u001b[39mif\u001b[39;00m start \u001b[39mis\u001b[39;00m \u001b[39mnot\u001b[39;00m \u001b[39mNone\u001b[39;00m:\n",
      "\u001b[1;31mValueError\u001b[0m: Of the four parameters: start, end, periods, and freq, exactly three must be specified"
     ]
    }
   ],
   "source": [
    "import pandas as pd\n",
    "\n",
    "date_index = pd.date_range('2018/08/10')\n",
    "ser_obj = pd.Series(11, date_index)\n",
    "print(ser_obj)\n"
   ]
  },
  {
   "cell_type": "code",
   "execution_count": 3,
   "id": "4855f9d3",
   "metadata": {},
   "outputs": [
    {
     "name": "stdout",
     "output_type": "stream",
     "text": [
      "<5 * MonthEnds>\n"
     ]
    }
   ],
   "source": [
    "import pandas as pd\n",
    "\n",
    "period1 = pd.Period('2017/1')\n",
    "period2 = pd.Period('2017/6')\n",
    "print(period2 - period1)\n"
   ]
  },
  {
   "cell_type": "code",
   "execution_count": 4,
   "id": "29c91878",
   "metadata": {},
   "outputs": [
    {
     "ename": "KeyError",
     "evalue": "'2018\\x009\\n'",
     "output_type": "error",
     "traceback": [
      "\u001b[1;31m---------------------------------------------------------------------------\u001b[0m",
      "\u001b[1;31mValueError\u001b[0m                                Traceback (most recent call last)",
      "File \u001b[1;32md:\\Program Files\\Python310\\lib\\site-packages\\pandas\\_libs\\tslibs\\parsing.pyx:443\u001b[0m, in \u001b[0;36mpandas._libs.tslibs.parsing.parse_datetime_string_with_reso\u001b[1;34m()\u001b[0m\n",
      "File \u001b[1;32md:\\Program Files\\Python310\\lib\\site-packages\\pandas\\_libs\\tslibs\\parsing.pyx:671\u001b[0m, in \u001b[0;36mpandas._libs.tslibs.parsing.dateutil_parse\u001b[1;34m()\u001b[0m\n",
      "\u001b[1;31mValueError\u001b[0m: year 20189 is out of range",
      "\nDuring handling of the above exception, another exception occurred:\n",
      "\u001b[1;31mDateParseError\u001b[0m                            Traceback (most recent call last)",
      "File \u001b[1;32md:\\Program Files\\Python310\\lib\\site-packages\\pandas\\core\\indexes\\datetimes.py:707\u001b[0m, in \u001b[0;36mDatetimeIndex.get_loc\u001b[1;34m(self, key, method, tolerance)\u001b[0m\n\u001b[0;32m    706\u001b[0m \u001b[39mtry\u001b[39;00m:\n\u001b[1;32m--> 707\u001b[0m     parsed, reso \u001b[39m=\u001b[39m \u001b[39mself\u001b[39;49m\u001b[39m.\u001b[39;49m_parse_with_reso(key)\n\u001b[0;32m    708\u001b[0m \u001b[39mexcept\u001b[39;00m \u001b[39mValueError\u001b[39;00m \u001b[39mas\u001b[39;00m err:\n",
      "File \u001b[1;32md:\\Program Files\\Python310\\lib\\site-packages\\pandas\\core\\indexes\\datetimelike.py:231\u001b[0m, in \u001b[0;36mDatetimeIndexOpsMixin._parse_with_reso\u001b[1;34m(self, label)\u001b[0m\n\u001b[0;32m    230\u001b[0m     freq \u001b[39m=\u001b[39m \u001b[39mgetattr\u001b[39m(\u001b[39mself\u001b[39m, \u001b[39m\"\u001b[39m\u001b[39mfreqstr\u001b[39m\u001b[39m\"\u001b[39m, \u001b[39mgetattr\u001b[39m(\u001b[39mself\u001b[39m, \u001b[39m\"\u001b[39m\u001b[39minferred_freq\u001b[39m\u001b[39m\"\u001b[39m, \u001b[39mNone\u001b[39;00m))\n\u001b[1;32m--> 231\u001b[0m parsed, reso_str \u001b[39m=\u001b[39m parsing\u001b[39m.\u001b[39;49mparse_time_string(label, freq)\n\u001b[0;32m    232\u001b[0m reso \u001b[39m=\u001b[39m Resolution\u001b[39m.\u001b[39mfrom_attrname(reso_str)\n",
      "File \u001b[1;32md:\\Program Files\\Python310\\lib\\site-packages\\pandas\\_libs\\tslibs\\parsing.pyx:370\u001b[0m, in \u001b[0;36mpandas._libs.tslibs.parsing.parse_time_string\u001b[1;34m()\u001b[0m\n",
      "File \u001b[1;32md:\\Program Files\\Python310\\lib\\site-packages\\pandas\\_libs\\tslibs\\parsing.pyx:448\u001b[0m, in \u001b[0;36mpandas._libs.tslibs.parsing.parse_datetime_string_with_reso\u001b[1;34m()\u001b[0m\n",
      "\u001b[1;31mDateParseError\u001b[0m: year 20189 is out of range",
      "\nThe above exception was the direct cause of the following exception:\n",
      "\u001b[1;31mKeyError\u001b[0m                                  Traceback (most recent call last)",
      "Cell \u001b[1;32mIn [4], line 3\u001b[0m\n\u001b[0;32m      1\u001b[0m date_index \u001b[38;5;241m=\u001b[39m pd\u001b[38;5;241m.\u001b[39mdate_range(\u001b[38;5;124m'\u001b[39m\u001b[38;5;124m2018/09/10\u001b[39m\u001b[38;5;124m'\u001b[39m, \u001b[38;5;124m'\u001b[39m\u001b[38;5;124m2018/09/13\u001b[39m\u001b[38;5;124m'\u001b[39m)\n\u001b[0;32m      2\u001b[0m ser_obj \u001b[38;5;241m=\u001b[39m pd\u001b[38;5;241m.\u001b[39mSeries(\u001b[38;5;241m11\u001b[39m, date_index)\n\u001b[1;32m----> 3\u001b[0m \u001b[43mser_obj\u001b[49m\u001b[43m[\u001b[49m\u001b[38;5;124;43m'\u001b[39;49m\u001b[38;5;124;43m2018\u001b[39;49m\u001b[38;5;130;43;01m\\0\u001b[39;49;00m\u001b[38;5;124;43m9\u001b[39;49m\u001b[38;5;130;43;01m\\12\u001b[39;49;00m\u001b[38;5;124;43m'\u001b[39;49m\u001b[43m]\u001b[49m\n",
      "File \u001b[1;32md:\\Program Files\\Python310\\lib\\site-packages\\pandas\\core\\series.py:982\u001b[0m, in \u001b[0;36mSeries.__getitem__\u001b[1;34m(self, key)\u001b[0m\n\u001b[0;32m    979\u001b[0m     \u001b[39mreturn\u001b[39;00m \u001b[39mself\u001b[39m\u001b[39m.\u001b[39m_values[key]\n\u001b[0;32m    981\u001b[0m \u001b[39melif\u001b[39;00m key_is_scalar:\n\u001b[1;32m--> 982\u001b[0m     \u001b[39mreturn\u001b[39;00m \u001b[39mself\u001b[39;49m\u001b[39m.\u001b[39;49m_get_value(key)\n\u001b[0;32m    984\u001b[0m \u001b[39mif\u001b[39;00m is_hashable(key):\n\u001b[0;32m    985\u001b[0m     \u001b[39m# Otherwise index.get_value will raise InvalidIndexError\u001b[39;00m\n\u001b[0;32m    986\u001b[0m     \u001b[39mtry\u001b[39;00m:\n\u001b[0;32m    987\u001b[0m         \u001b[39m# For labels that don't resolve as scalars like tuples and frozensets\u001b[39;00m\n",
      "File \u001b[1;32md:\\Program Files\\Python310\\lib\\site-packages\\pandas\\core\\series.py:1092\u001b[0m, in \u001b[0;36mSeries._get_value\u001b[1;34m(self, label, takeable)\u001b[0m\n\u001b[0;32m   1089\u001b[0m     \u001b[39mreturn\u001b[39;00m \u001b[39mself\u001b[39m\u001b[39m.\u001b[39m_values[label]\n\u001b[0;32m   1091\u001b[0m \u001b[39m# Similar to Index.get_value, but we do not fall back to positional\u001b[39;00m\n\u001b[1;32m-> 1092\u001b[0m loc \u001b[39m=\u001b[39m \u001b[39mself\u001b[39;49m\u001b[39m.\u001b[39;49mindex\u001b[39m.\u001b[39;49mget_loc(label)\n\u001b[0;32m   1093\u001b[0m \u001b[39mreturn\u001b[39;00m \u001b[39mself\u001b[39m\u001b[39m.\u001b[39mindex\u001b[39m.\u001b[39m_get_values_for_loc(\u001b[39mself\u001b[39m, loc, label)\n",
      "File \u001b[1;32md:\\Program Files\\Python310\\lib\\site-packages\\pandas\\core\\indexes\\datetimes.py:709\u001b[0m, in \u001b[0;36mDatetimeIndex.get_loc\u001b[1;34m(self, key, method, tolerance)\u001b[0m\n\u001b[0;32m    707\u001b[0m     parsed, reso \u001b[39m=\u001b[39m \u001b[39mself\u001b[39m\u001b[39m.\u001b[39m_parse_with_reso(key)\n\u001b[0;32m    708\u001b[0m \u001b[39mexcept\u001b[39;00m \u001b[39mValueError\u001b[39;00m \u001b[39mas\u001b[39;00m err:\n\u001b[1;32m--> 709\u001b[0m     \u001b[39mraise\u001b[39;00m \u001b[39mKeyError\u001b[39;00m(key) \u001b[39mfrom\u001b[39;00m \u001b[39merr\u001b[39;00m\n\u001b[0;32m    710\u001b[0m \u001b[39mself\u001b[39m\u001b[39m.\u001b[39m_deprecate_mismatched_indexing(parsed, one_way\u001b[39m=\u001b[39m\u001b[39mTrue\u001b[39;00m)\n\u001b[0;32m    712\u001b[0m \u001b[39mif\u001b[39;00m \u001b[39mself\u001b[39m\u001b[39m.\u001b[39m_can_partial_date_slice(reso):\n",
      "\u001b[1;31mKeyError\u001b[0m: '2018\\x009\\n'"
     ]
    }
   ],
   "source": [
    "date_index = pd.date_range('2018/09/10', '2018/09/13')\n",
    "ser_obj = pd.Series(11, date_index)\n",
    "ser_obj['2018\\09\\12']\n"
   ]
  },
  {
   "cell_type": "code",
   "execution_count": null,
   "id": "8cb80289",
   "metadata": {},
   "outputs": [],
   "source": []
  }
 ],
 "metadata": {
  "kernelspec": {
   "display_name": "Python 3.10.6 64-bit",
   "language": "python",
   "name": "python3"
  },
  "language_info": {
   "codemirror_mode": {
    "name": "ipython",
    "version": 3
   },
   "file_extension": ".py",
   "mimetype": "text/x-python",
   "name": "python",
   "nbconvert_exporter": "python",
   "pygments_lexer": "ipython3",
   "version": "3.10.6"
  },
  "vscode": {
   "interpreter": {
    "hash": "d99a3f7b344b3c3107482760db15f42178bfad658d282ab0a919b76809e13cb5"
   }
  }
 },
 "nbformat": 4,
 "nbformat_minor": 5
}
