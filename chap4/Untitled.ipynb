{
 "cells": [
  {
   "cell_type": "code",
   "execution_count": 12,
   "metadata": {},
   "outputs": [
    {
     "name": "stdout",
     "output_type": "stream",
     "text": [
      "   A    B   C  key\n",
      "0  2    5   8    3\n",
      "1  3  NaN   7    4\n",
      "2  5    2  50    5\n",
      "3  2    3   8    2\n",
      "4  3    6   2    5\n",
      "   A  B  C\n",
      "0  3  3  3\n",
      "1  4  4  4\n",
      "2  5  5  5\n",
      "   A    B   C  key\n",
      "0  2    5   8    3\n",
      "1  3  4.0   7    4\n",
      "2  5    2  50    5\n",
      "3  2    3   8    2\n",
      "4  3    6   2    5\n"
     ]
    },
    {
     "data": {
      "text/html": [
       "<div>\n",
       "<style scoped>\n",
       "    .dataframe tbody tr th:only-of-type {\n",
       "        vertical-align: middle;\n",
       "    }\n",
       "\n",
       "    .dataframe tbody tr th {\n",
       "        vertical-align: top;\n",
       "    }\n",
       "\n",
       "    .dataframe thead th {\n",
       "        text-align: right;\n",
       "    }\n",
       "</style>\n",
       "<table border=\"1\" class=\"dataframe\">\n",
       "  <thead>\n",
       "    <tr style=\"text-align: right;\">\n",
       "      <th></th>\n",
       "      <th>A</th>\n",
       "      <th>B</th>\n",
       "      <th>C</th>\n",
       "      <th>D</th>\n",
       "    </tr>\n",
       "  </thead>\n",
       "  <tbody>\n",
       "    <tr>\n",
       "      <th>0</th>\n",
       "      <td>2</td>\n",
       "      <td>5</td>\n",
       "      <td>8</td>\n",
       "      <td>3</td>\n",
       "    </tr>\n",
       "    <tr>\n",
       "      <th>1</th>\n",
       "      <td>3</td>\n",
       "      <td>4.0</td>\n",
       "      <td>7</td>\n",
       "      <td>4</td>\n",
       "    </tr>\n",
       "    <tr>\n",
       "      <th>2</th>\n",
       "      <td>5</td>\n",
       "      <td>2</td>\n",
       "      <td>50</td>\n",
       "      <td>5</td>\n",
       "    </tr>\n",
       "    <tr>\n",
       "      <th>3</th>\n",
       "      <td>2</td>\n",
       "      <td>3</td>\n",
       "      <td>8</td>\n",
       "      <td>2</td>\n",
       "    </tr>\n",
       "    <tr>\n",
       "      <th>4</th>\n",
       "      <td>3</td>\n",
       "      <td>6</td>\n",
       "      <td>2</td>\n",
       "      <td>5</td>\n",
       "    </tr>\n",
       "  </tbody>\n",
       "</table>\n",
       "</div>"
      ],
      "text/plain": [
       "   A    B   C  D\n",
       "0  2    5   8  3\n",
       "1  3  4.0   7  4\n",
       "2  5    2  50  5\n",
       "3  2    3   8  2\n",
       "4  3    6   2  5"
      ]
     },
     "execution_count": 12,
     "metadata": {},
     "output_type": "execute_result"
    }
   ],
   "source": [
    "import pandas as pd\n",
    "import numpy as np\n",
    "\n",
    "GroupA = pd.DataFrame({\n",
    "    'A': [2, 3, 5, 2, 3],\n",
    "    'B': ['5', np.nan, '2', '3', '6'],\n",
    "    'C': [8, 7, 50, 8, 2],\n",
    "    'key': [3, 4, 5, 2, 5]\n",
    "})\n",
    "\n",
    "GroupB = pd.DataFrame({'A': [3, 4, 5], 'B': [3, 4, 5], 'C': [3, 4, 5]})\n",
    "\n",
    "print(GroupA)\n",
    "print(GroupB)\n",
    "\n",
    "GroupA = GroupA.combine_first(GroupB)\n",
    "print(GroupA)\n",
    "GroupA.rename(columns={'key': 'D'})\n"
   ]
  },
  {
   "cell_type": "code",
   "execution_count": null,
   "id": "e4cb60c0",
   "metadata": {},
   "outputs": [],
   "source": []
  }
 ],
 "metadata": {
  "kernelspec": {
   "display_name": "Python 3.10.6 64-bit",
   "language": "python",
   "name": "python3"
  },
  "language_info": {
   "codemirror_mode": {
    "name": "ipython",
    "version": 3
   },
   "file_extension": ".py",
   "mimetype": "text/x-python",
   "name": "python",
   "nbconvert_exporter": "python",
   "pygments_lexer": "ipython3",
   "version": "3.10.6"
  },
  "vscode": {
   "interpreter": {
    "hash": "d99a3f7b344b3c3107482760db15f42178bfad658d282ab0a919b76809e13cb5"
   }
  }
 },
 "nbformat": 4,
 "nbformat_minor": 5
}
