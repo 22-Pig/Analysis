{
 "cells": [
  {
   "cell_type": "code",
   "execution_count": 10,
   "id": "2761e68d",
   "metadata": {},
   "outputs": [
    {
     "name": "stdout",
     "output_type": "stream",
     "text": [
      "    年级   姓名  年龄   身高  体重\n",
      "序号                      \n",
      "0   大一  李宏卓  18  175  65\n",
      "1   大二  李思真  19  165  60\n",
      "2   大三  张振海  20  178  70\n",
      "3   大四  赵鸿飞  21  175  76\n",
      "4   大二   白蓉  19  160  55\n",
      "5   大三  马腾飞  20  180  70\n",
      "6   大一  张晓凡  18  167  52\n",
      "7   大三  金紫萱  20  170  53\n",
      "8   大四   金烨  21  185  73\n",
      "    年级   姓名  年龄   身高  体重\n",
      "序号                      \n",
      "0   大一  李宏卓  18  175  65\n",
      "6   大一  张晓凡  18  167  52\n",
      "   年级   姓名  年龄   身高  体重\n",
      "0  大一  李宏卓  18  175  65\n",
      "1  大三  马腾飞  20  180  70\n",
      "2  大二  李思真  19  165  60\n",
      "3  大四   金烨  21  185  73\n",
      "58.5\n",
      "64.33333333333333\n"
     ]
    }
   ],
   "source": [
    "import pandas as pd\n",
    "\n",
    "studentsData = pd.DataFrame({\n",
    "    '年级': ['大一', '大二', '大三', '大四', '大二', '大三', '大一', '大三', '大四'],\n",
    "    '姓名': ['李宏卓', '李思真', '张振海', '赵鸿飞', '白蓉', '马腾飞', '张晓凡', '金紫萱', '金烨'],\n",
    "    '年龄': [18, 19, 20, 21, 19, 20, 18, 20, 21],\n",
    "    '身高': [175, 165, 178, 175, 160, 180, 167, 170, 185],\n",
    "    '体重': [65, 60, 70, 76, 55, 70, 52, 53, 73]\n",
    "})\n",
    "\n",
    "print(studentsData)\n",
    "\n",
    "# 根据年级信息为分组键，对学生信息进行分组，并输出大一学生信息。\n",
    "data = studentsData.groupby('年级')\n",
    "Freshaman = dict([x for x in data])['大一']\n",
    "print(Freshaman)\n",
    "\n",
    "# 分别计算四个年级中身高最高的同学。\n",
    "data1 = studentsData[['身高', '年级']].groupby(by='年级').max()\n",
    "data2 = pd.merge(studentsData, data1, on=['身高', '年级'], how='right')\n",
    "print(data2)\n",
    "\n",
    "# 计算大一学生与大三学生的平均体重。\n",
    "print(Freshaman['体重'].apply('mean'))\n",
    "\n",
    "data = studentsData.groupby('年级')\n",
    "Freshaman = dict([x for x in data])['大三']\n",
    "print(Freshaman['体重'].apply('mean'))\n"
   ]
  },
  {
   "cell_type": "code",
   "execution_count": null,
   "id": "94c4474a",
   "metadata": {},
   "outputs": [],
   "source": []
  }
 ],
 "metadata": {
  "kernelspec": {
   "display_name": "Python 3.10.6 64-bit",
   "language": "python",
   "name": "python3"
  },
  "language_info": {
   "codemirror_mode": {
    "name": "ipython",
    "version": 3
   },
   "file_extension": ".py",
   "mimetype": "text/x-python",
   "name": "python",
   "nbconvert_exporter": "python",
   "pygments_lexer": "ipython3",
   "version": "3.10.6"
  },
  "vscode": {
   "interpreter": {
    "hash": "d99a3f7b344b3c3107482760db15f42178bfad658d282ab0a919b76809e13cb5"
   }
  }
 },
 "nbformat": 4,
 "nbformat_minor": 5
}
